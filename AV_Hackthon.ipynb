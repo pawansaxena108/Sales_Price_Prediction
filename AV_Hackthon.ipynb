{
  "nbformat": 4,
  "nbformat_minor": 0,
  "metadata": {
    "colab": {
      "name": "AV_Hackthon.ipynb",
      "provenance": [],
      "collapsed_sections": [],
      "toc_visible": true
    },
    "kernelspec": {
      "name": "python3",
      "display_name": "Python 3"
    },
    "language_info": {
      "name": "python"
    }
  },
  "cells": [
    {
      "cell_type": "code",
      "metadata": {
        "id": "RN6QGEXBlTAl"
      },
      "source": [
        "!pip install LightGBM"
      ],
      "execution_count": null,
      "outputs": []
    },
    {
      "cell_type": "code",
      "metadata": {
        "id": "dYthVKy04WrW"
      },
      "source": [
        "import pandas as pd\n",
        "import numpy as np\n",
        "import seaborn as sns\n",
        "import matplotlib.pyplot as plt\n",
        "from sklearn.ensemble import RandomForestRegressor\n",
        "from sklearn.model_selection import train_test_split, GridSearchCV\n",
        "from sklearn.preprocessing import LabelEncoder, OneHotEncoder,OrdinalEncoder, StandardScaler,MinMaxScaler,Normalizer\n",
        "from sklearn.compose import  make_column_transformer,make_column_selector as selector\n",
        "from sklearn.pipeline import make_pipeline\n",
        "from sklearn.metrics import mean_absolute_error,mean_squared_error, mean_squared_log_error\n",
        "import lightgbm as lgm\n",
        "from lightgbm import LGBMRegressor"
      ],
      "execution_count": 325,
      "outputs": []
    },
    {
      "cell_type": "markdown",
      "metadata": {
        "id": "CxQWDVFG28pp"
      },
      "source": [
        ""
      ]
    },
    {
      "cell_type": "code",
      "metadata": {
        "id": "Rl-tfLpc5m0M"
      },
      "source": [
        "train=pd.read_csv('TRAIN (3).csv')\n",
        "submission=pd.read_csv('SAMPLE.csv')\n",
        "test=pd.read_csv('TEST_FINAL.csv')"
      ],
      "execution_count": 446,
      "outputs": []
    },
    {
      "cell_type": "code",
      "metadata": {
        "colab": {
          "base_uri": "https://localhost:8080/",
          "height": 204
        },
        "id": "bSWX1D2753G8",
        "outputId": "10fb6f53-6dc8-4e49-f9f4-3e585365c1c0"
      },
      "source": [
        "train.head()"
      ],
      "execution_count": 322,
      "outputs": [
        {
          "output_type": "execute_result",
          "data": {
            "text/html": [
              "<div>\n",
              "<style scoped>\n",
              "    .dataframe tbody tr th:only-of-type {\n",
              "        vertical-align: middle;\n",
              "    }\n",
              "\n",
              "    .dataframe tbody tr th {\n",
              "        vertical-align: top;\n",
              "    }\n",
              "\n",
              "    .dataframe thead th {\n",
              "        text-align: right;\n",
              "    }\n",
              "</style>\n",
              "<table border=\"1\" class=\"dataframe\">\n",
              "  <thead>\n",
              "    <tr style=\"text-align: right;\">\n",
              "      <th></th>\n",
              "      <th>ID</th>\n",
              "      <th>Store_id</th>\n",
              "      <th>Store_Type</th>\n",
              "      <th>Location_Type</th>\n",
              "      <th>Region_Code</th>\n",
              "      <th>Date</th>\n",
              "      <th>Holiday</th>\n",
              "      <th>Discount</th>\n",
              "      <th>#Order</th>\n",
              "      <th>Sales</th>\n",
              "    </tr>\n",
              "  </thead>\n",
              "  <tbody>\n",
              "    <tr>\n",
              "      <th>0</th>\n",
              "      <td>T1000001</td>\n",
              "      <td>1</td>\n",
              "      <td>S1</td>\n",
              "      <td>L3</td>\n",
              "      <td>R1</td>\n",
              "      <td>2018-01-01</td>\n",
              "      <td>1</td>\n",
              "      <td>Yes</td>\n",
              "      <td>9</td>\n",
              "      <td>7011.84</td>\n",
              "    </tr>\n",
              "    <tr>\n",
              "      <th>1</th>\n",
              "      <td>T1000002</td>\n",
              "      <td>253</td>\n",
              "      <td>S4</td>\n",
              "      <td>L2</td>\n",
              "      <td>R1</td>\n",
              "      <td>2018-01-01</td>\n",
              "      <td>1</td>\n",
              "      <td>Yes</td>\n",
              "      <td>60</td>\n",
              "      <td>51789.12</td>\n",
              "    </tr>\n",
              "    <tr>\n",
              "      <th>2</th>\n",
              "      <td>T1000003</td>\n",
              "      <td>252</td>\n",
              "      <td>S3</td>\n",
              "      <td>L2</td>\n",
              "      <td>R1</td>\n",
              "      <td>2018-01-01</td>\n",
              "      <td>1</td>\n",
              "      <td>Yes</td>\n",
              "      <td>42</td>\n",
              "      <td>36868.20</td>\n",
              "    </tr>\n",
              "    <tr>\n",
              "      <th>3</th>\n",
              "      <td>T1000004</td>\n",
              "      <td>251</td>\n",
              "      <td>S2</td>\n",
              "      <td>L3</td>\n",
              "      <td>R1</td>\n",
              "      <td>2018-01-01</td>\n",
              "      <td>1</td>\n",
              "      <td>Yes</td>\n",
              "      <td>23</td>\n",
              "      <td>19715.16</td>\n",
              "    </tr>\n",
              "    <tr>\n",
              "      <th>4</th>\n",
              "      <td>T1000005</td>\n",
              "      <td>250</td>\n",
              "      <td>S2</td>\n",
              "      <td>L3</td>\n",
              "      <td>R4</td>\n",
              "      <td>2018-01-01</td>\n",
              "      <td>1</td>\n",
              "      <td>Yes</td>\n",
              "      <td>62</td>\n",
              "      <td>45614.52</td>\n",
              "    </tr>\n",
              "  </tbody>\n",
              "</table>\n",
              "</div>"
            ],
            "text/plain": [
              "         ID  Store_id Store_Type  ... Discount #Order     Sales\n",
              "0  T1000001         1         S1  ...      Yes      9   7011.84\n",
              "1  T1000002       253         S4  ...      Yes     60  51789.12\n",
              "2  T1000003       252         S3  ...      Yes     42  36868.20\n",
              "3  T1000004       251         S2  ...      Yes     23  19715.16\n",
              "4  T1000005       250         S2  ...      Yes     62  45614.52\n",
              "\n",
              "[5 rows x 10 columns]"
            ]
          },
          "metadata": {},
          "execution_count": 322
        }
      ]
    },
    {
      "cell_type": "code",
      "metadata": {
        "colab": {
          "base_uri": "https://localhost:8080/",
          "height": 204
        },
        "id": "Dmxhh6f0xA3S",
        "outputId": "69b1df03-1413-4cf0-ac21-e45e6571ebc4"
      },
      "source": [
        "test.head()"
      ],
      "execution_count": 325,
      "outputs": [
        {
          "output_type": "execute_result",
          "data": {
            "text/html": [
              "<div>\n",
              "<style scoped>\n",
              "    .dataframe tbody tr th:only-of-type {\n",
              "        vertical-align: middle;\n",
              "    }\n",
              "\n",
              "    .dataframe tbody tr th {\n",
              "        vertical-align: top;\n",
              "    }\n",
              "\n",
              "    .dataframe thead th {\n",
              "        text-align: right;\n",
              "    }\n",
              "</style>\n",
              "<table border=\"1\" class=\"dataframe\">\n",
              "  <thead>\n",
              "    <tr style=\"text-align: right;\">\n",
              "      <th></th>\n",
              "      <th>ID</th>\n",
              "      <th>Store_id</th>\n",
              "      <th>Store_Type</th>\n",
              "      <th>Location_Type</th>\n",
              "      <th>Region_Code</th>\n",
              "      <th>Date</th>\n",
              "      <th>Holiday</th>\n",
              "      <th>Discount</th>\n",
              "    </tr>\n",
              "  </thead>\n",
              "  <tbody>\n",
              "    <tr>\n",
              "      <th>0</th>\n",
              "      <td>T1188341</td>\n",
              "      <td>171</td>\n",
              "      <td>S4</td>\n",
              "      <td>L2</td>\n",
              "      <td>R3</td>\n",
              "      <td>2019-06-01</td>\n",
              "      <td>0</td>\n",
              "      <td>No</td>\n",
              "    </tr>\n",
              "    <tr>\n",
              "      <th>1</th>\n",
              "      <td>T1188342</td>\n",
              "      <td>172</td>\n",
              "      <td>S1</td>\n",
              "      <td>L1</td>\n",
              "      <td>R1</td>\n",
              "      <td>2019-06-01</td>\n",
              "      <td>0</td>\n",
              "      <td>No</td>\n",
              "    </tr>\n",
              "    <tr>\n",
              "      <th>2</th>\n",
              "      <td>T1188343</td>\n",
              "      <td>173</td>\n",
              "      <td>S4</td>\n",
              "      <td>L2</td>\n",
              "      <td>R1</td>\n",
              "      <td>2019-06-01</td>\n",
              "      <td>0</td>\n",
              "      <td>No</td>\n",
              "    </tr>\n",
              "    <tr>\n",
              "      <th>3</th>\n",
              "      <td>T1188344</td>\n",
              "      <td>174</td>\n",
              "      <td>S1</td>\n",
              "      <td>L1</td>\n",
              "      <td>R4</td>\n",
              "      <td>2019-06-01</td>\n",
              "      <td>0</td>\n",
              "      <td>No</td>\n",
              "    </tr>\n",
              "    <tr>\n",
              "      <th>4</th>\n",
              "      <td>T1188345</td>\n",
              "      <td>170</td>\n",
              "      <td>S1</td>\n",
              "      <td>L1</td>\n",
              "      <td>R2</td>\n",
              "      <td>2019-06-01</td>\n",
              "      <td>0</td>\n",
              "      <td>No</td>\n",
              "    </tr>\n",
              "  </tbody>\n",
              "</table>\n",
              "</div>"
            ],
            "text/plain": [
              "         ID  Store_id Store_Type  ...        Date Holiday Discount\n",
              "0  T1188341       171         S4  ...  2019-06-01       0       No\n",
              "1  T1188342       172         S1  ...  2019-06-01       0       No\n",
              "2  T1188343       173         S4  ...  2019-06-01       0       No\n",
              "3  T1188344       174         S1  ...  2019-06-01       0       No\n",
              "4  T1188345       170         S1  ...  2019-06-01       0       No\n",
              "\n",
              "[5 rows x 8 columns]"
            ]
          },
          "metadata": {},
          "execution_count": 325
        }
      ]
    },
    {
      "cell_type": "markdown",
      "metadata": {
        "id": "H1Z9R13yZy4N"
      },
      "source": [
        "NO null values with mixed data type"
      ]
    },
    {
      "cell_type": "code",
      "metadata": {
        "colab": {
          "base_uri": "https://localhost:8080/"
        },
        "id": "009Sa2wT6iIr",
        "outputId": "878ea1fc-725d-414e-a418-37c4321fb0a0"
      },
      "source": [
        "train.info()"
      ],
      "execution_count": 9,
      "outputs": [
        {
          "output_type": "stream",
          "name": "stdout",
          "text": [
            "<class 'pandas.core.frame.DataFrame'>\n",
            "RangeIndex: 188340 entries, 0 to 188339\n",
            "Data columns (total 10 columns):\n",
            " #   Column         Non-Null Count   Dtype  \n",
            "---  ------         --------------   -----  \n",
            " 0   ID             188340 non-null  object \n",
            " 1   Store_id       188340 non-null  int64  \n",
            " 2   Store_Type     188340 non-null  object \n",
            " 3   Location_Type  188340 non-null  object \n",
            " 4   Region_Code    188340 non-null  object \n",
            " 5   Date           188340 non-null  object \n",
            " 6   Holiday        188340 non-null  int64  \n",
            " 7   Discount       188340 non-null  object \n",
            " 8   #Order         188340 non-null  int64  \n",
            " 9   Sales          188340 non-null  float64\n",
            "dtypes: float64(1), int64(3), object(6)\n",
            "memory usage: 14.4+ MB\n"
          ]
        }
      ]
    },
    {
      "cell_type": "code",
      "metadata": {
        "colab": {
          "base_uri": "https://localhost:8080/",
          "height": 173
        },
        "id": "-Dpy_kbn6y-d",
        "outputId": "44ab7838-153a-44c3-d7fc-28f942ec26f6"
      },
      "source": [
        "train.astype(object).describe()"
      ],
      "execution_count": 4,
      "outputs": [
        {
          "output_type": "execute_result",
          "data": {
            "text/html": [
              "<div>\n",
              "<style scoped>\n",
              "    .dataframe tbody tr th:only-of-type {\n",
              "        vertical-align: middle;\n",
              "    }\n",
              "\n",
              "    .dataframe tbody tr th {\n",
              "        vertical-align: top;\n",
              "    }\n",
              "\n",
              "    .dataframe thead th {\n",
              "        text-align: right;\n",
              "    }\n",
              "</style>\n",
              "<table border=\"1\" class=\"dataframe\">\n",
              "  <thead>\n",
              "    <tr style=\"text-align: right;\">\n",
              "      <th></th>\n",
              "      <th>ID</th>\n",
              "      <th>Store_id</th>\n",
              "      <th>Store_Type</th>\n",
              "      <th>Location_Type</th>\n",
              "      <th>Region_Code</th>\n",
              "      <th>Date</th>\n",
              "      <th>Holiday</th>\n",
              "      <th>Discount</th>\n",
              "      <th>#Order</th>\n",
              "      <th>Sales</th>\n",
              "    </tr>\n",
              "  </thead>\n",
              "  <tbody>\n",
              "    <tr>\n",
              "      <th>count</th>\n",
              "      <td>63522</td>\n",
              "      <td>63522</td>\n",
              "      <td>63522</td>\n",
              "      <td>63522</td>\n",
              "      <td>63522</td>\n",
              "      <td>63522</td>\n",
              "      <td>63522</td>\n",
              "      <td>63522</td>\n",
              "      <td>63522</td>\n",
              "      <td>63521.0</td>\n",
              "    </tr>\n",
              "    <tr>\n",
              "      <th>unique</th>\n",
              "      <td>63522</td>\n",
              "      <td>365</td>\n",
              "      <td>4</td>\n",
              "      <td>5</td>\n",
              "      <td>4</td>\n",
              "      <td>175</td>\n",
              "      <td>2</td>\n",
              "      <td>2</td>\n",
              "      <td>245</td>\n",
              "      <td>26130.0</td>\n",
              "    </tr>\n",
              "    <tr>\n",
              "      <th>top</th>\n",
              "      <td>T1004668</td>\n",
              "      <td>220</td>\n",
              "      <td>S1</td>\n",
              "      <td>L1</td>\n",
              "      <td>R1</td>\n",
              "      <td>2018-02-08</td>\n",
              "      <td>0</td>\n",
              "      <td>No</td>\n",
              "      <td>53</td>\n",
              "      <td>35853.0</td>\n",
              "    </tr>\n",
              "    <tr>\n",
              "      <th>freq</th>\n",
              "      <td>1</td>\n",
              "      <td>175</td>\n",
              "      <td>29933</td>\n",
              "      <td>28713</td>\n",
              "      <td>21579</td>\n",
              "      <td>365</td>\n",
              "      <td>55857</td>\n",
              "      <td>33721</td>\n",
              "      <td>1247</td>\n",
              "      <td>16.0</td>\n",
              "    </tr>\n",
              "  </tbody>\n",
              "</table>\n",
              "</div>"
            ],
            "text/plain": [
              "              ID  Store_id Store_Type  ... Discount #Order    Sales\n",
              "count      63522     63522      63522  ...    63522  63522  63521.0\n",
              "unique     63522       365          4  ...        2    245  26130.0\n",
              "top     T1004668       220         S1  ...       No     53  35853.0\n",
              "freq           1       175      29933  ...    33721   1247     16.0\n",
              "\n",
              "[4 rows x 10 columns]"
            ]
          },
          "metadata": {},
          "execution_count": 4
        }
      ]
    },
    {
      "cell_type": "markdown",
      "metadata": {
        "id": "Rrr7uvI0fE2E"
      },
      "source": [
        ""
      ]
    },
    {
      "cell_type": "code",
      "metadata": {
        "colab": {
          "base_uri": "https://localhost:8080/",
          "height": 297
        },
        "id": "NQIU_fJg7LNB",
        "outputId": "67cef333-83ab-4194-dea6-f068ff20ec9b"
      },
      "source": [
        "sns.histplot(data=train,x='Sales')"
      ],
      "execution_count": 15,
      "outputs": [
        {
          "output_type": "execute_result",
          "data": {
            "text/plain": [
              "<matplotlib.axes._subplots.AxesSubplot at 0x7f641448d210>"
            ]
          },
          "metadata": {},
          "execution_count": 15
        },
        {
          "output_type": "display_data",
          "data": {
            "image/png": "[encoded data removed]",
            "text/plain": [
              "<Figure size 432x288 with 1 Axes>"
            ]
          },
          "metadata": {
            "needs_background": "light"
          }
        }
      ]
    },
    {
      "cell_type": "code",
      "metadata": {
        "colab": {
          "base_uri": "https://localhost:8080/",
          "height": 283
        },
        "id": "Rj2LBQnWb7xm",
        "outputId": "5e700429-0870-4d8f-a7a1-8932e0e6fdf5"
      },
      "source": [
        "train.Sales.plot(kind='box')"
      ],
      "execution_count": 35,
      "outputs": [
        {
          "output_type": "execute_result",
          "data": {
            "text/plain": [
              "<matplotlib.axes._subplots.AxesSubplot at 0x7fd51c99c410>"
            ]
          },
          "metadata": {},
          "execution_count": 35
        },
        {
          "output_type": "display_data",
          "data": {
            "image/png": "[encoded data removed]",
            "text/plain": [
              "<Figure size 432x288 with 1 Axes>"
            ]
          },
          "metadata": {
            "needs_background": "light"
          }
        }
      ]
    },
    {
      "cell_type": "code",
      "metadata": {
        "id": "_l3h2GdogJN3"
      },
      "source": [
        "train=train[train.Sales < 150000]"
      ],
      "execution_count": 448,
      "outputs": []
    },
    {
      "cell_type": "code",
      "metadata": {
        "id": "jYNtzcSC60-U"
      },
      "source": [
        "train.head()"
      ],
      "execution_count": null,
      "outputs": []
    },
    {
      "cell_type": "code",
      "metadata": {
        "id": "3HT-G-Gw-NUA"
      },
      "source": [
        "train['Date']=train.Date.astype('datetime64')\n",
        "test['Date']=test.Date.astype('datetime64')"
      ],
      "execution_count": 449,
      "outputs": []
    },
    {
      "cell_type": "code",
      "metadata": {
        "id": "9K5LQgoI-cqX"
      },
      "source": [
        "train['day_name']=train.Date.dt.day_name()\n",
        "test['day_name']=test.Date.dt.day_name()\n",
        "train['month_of_sale']=train.Date.dt.month\n",
        "test['month_of_sale']=test.Date.dt.month"
      ],
      "execution_count": 450,
      "outputs": []
    },
    {
      "cell_type": "markdown",
      "metadata": {
        "id": "yhYzj9qkXlRw"
      },
      "source": [
        "# Sale on weekend is more as compared to other days"
      ]
    },
    {
      "cell_type": "code",
      "metadata": {
        "colab": {
          "base_uri": "https://localhost:8080/",
          "height": 335
        },
        "id": "G6rITw34-qdP",
        "outputId": "1d07efab-7ea7-4d03-f26d-b01dab9c1963"
      },
      "source": [
        "plt.xticks(rotation=45)\n",
        "sns.barplot(x='day_name',y='Sales',data=train)\n"
      ],
      "execution_count": 26,
      "outputs": [
        {
          "output_type": "execute_result",
          "data": {
            "text/plain": [
              "<matplotlib.axes._subplots.AxesSubplot at 0x7f6412166cd0>"
            ]
          },
          "metadata": {},
          "execution_count": 26
        },
        {
          "output_type": "display_data",
          "data": {
            "image/png": "[encoded data removed]",
            "text/plain": [
              "<Figure size 432x288 with 1 Axes>"
            ]
          },
          "metadata": {
            "needs_background": "light"
          }
        }
      ]
    },
    {
      "cell_type": "code",
      "metadata": {
        "id": "l8zL90oJWCmN"
      },
      "source": [
        "plt.bar(train.Date.dt.month,train.Sales)"
      ],
      "execution_count": null,
      "outputs": []
    },
    {
      "cell_type": "markdown",
      "metadata": {
        "id": "9ukqHfjhfgcU"
      },
      "source": [
        "New feature if it is weekend or not"
      ]
    },
    {
      "cell_type": "code",
      "metadata": {
        "id": "wzVeVNwFiWyi"
      },
      "source": [
        "train['Weekend']=np.where(train.Date.dt.day_name().isin(['Sunday','Saturday']),1,0)\n",
        "test['Weekend']=np.where(test.Date.dt.day_name().isin(['Sunday','Saturday']),1,0)"
      ],
      "execution_count": 451,
      "outputs": []
    },
    {
      "cell_type": "markdown",
      "metadata": {
        "id": "yqF-c6EAXdHe"
      },
      "source": [
        "Sales is more on month of January and May and Jun compartively\n"
      ]
    },
    {
      "cell_type": "code",
      "metadata": {
        "colab": {
          "base_uri": "https://localhost:8080/",
          "height": 298
        },
        "id": "5xz1CxeAXCRJ",
        "outputId": "15cfee90-c92a-46fa-c413-4ba32b4c71b4"
      },
      "source": [
        "sns.barplot(x='month_of_sale',y='Sales',data=train)\n"
      ],
      "execution_count": 19,
      "outputs": [
        {
          "output_type": "execute_result",
          "data": {
            "text/plain": [
              "<matplotlib.axes._subplots.AxesSubplot at 0x7fd51f522c10>"
            ]
          },
          "metadata": {},
          "execution_count": 19
        },
        {
          "output_type": "display_data",
          "data": {
            "image/png": "[encoded data removed]",
            "text/plain": [
              "<Figure size 432x288 with 1 Axes>"
            ]
          },
          "metadata": {
            "needs_background": "light"
          }
        }
      ]
    },
    {
      "cell_type": "markdown",
      "metadata": {
        "id": "b4aaHLbmXzLb"
      },
      "source": [
        "only 2018 year sales are present in training data"
      ]
    },
    {
      "cell_type": "markdown",
      "metadata": {
        "id": "aVIBfjSDXzJR"
      },
      "source": [
        ""
      ]
    },
    {
      "cell_type": "markdown",
      "metadata": {
        "id": "s3Fjsz10Zc5w"
      },
      "source": [
        "More sale  happens when Discount is given"
      ]
    },
    {
      "cell_type": "code",
      "metadata": {
        "colab": {
          "base_uri": "https://localhost:8080/",
          "height": 297
        },
        "id": "X2NO4ncxY-lx",
        "outputId": "e3402660-55da-4ac7-f4da-d13cfa4cab6f"
      },
      "source": [
        "sns.barplot(x='Discount',y='Sales',data=train)"
      ],
      "execution_count": 24,
      "outputs": [
        {
          "output_type": "execute_result",
          "data": {
            "text/plain": [
              "<matplotlib.axes._subplots.AxesSubplot at 0x7fd51f3fef50>"
            ]
          },
          "metadata": {},
          "execution_count": 24
        },
        {
          "output_type": "display_data",
          "data": {
            "image/png": "[encoded data removed]",
            "text/plain": [
              "<Figure size 432x288 with 1 Axes>"
            ]
          },
          "metadata": {
            "needs_background": "light"
          }
        }
      ]
    },
    {
      "cell_type": "markdown",
      "metadata": {
        "id": "A2_o55p-aLtN"
      },
      "source": [
        "In Region Code R1 more sales happens as compared to other region"
      ]
    },
    {
      "cell_type": "code",
      "metadata": {
        "colab": {
          "base_uri": "https://localhost:8080/",
          "height": 298
        },
        "id": "pBEAFSfxZWuc",
        "outputId": "4a0048c6-e462-4e42-cbe2-64304525ef67"
      },
      "source": [
        "sns.barplot(x='Region_Code',y='Sales',data=train)"
      ],
      "execution_count": 26,
      "outputs": [
        {
          "output_type": "execute_result",
          "data": {
            "text/plain": [
              "<matplotlib.axes._subplots.AxesSubplot at 0x7fd51f3615d0>"
            ]
          },
          "metadata": {},
          "execution_count": 26
        },
        {
          "output_type": "display_data",
          "data": {
            "image/png": "[encoded data removed]",
            "text/plain": [
              "<Figure size 432x288 with 1 Axes>"
            ]
          },
          "metadata": {
            "needs_background": "light"
          }
        }
      ]
    },
    {
      "cell_type": "markdown",
      "metadata": {
        "id": "bTXI36WeadjQ"
      },
      "source": [
        "DIfferent location has different sales with location L2 having most sales"
      ]
    },
    {
      "cell_type": "code",
      "metadata": {
        "colab": {
          "base_uri": "https://localhost:8080/",
          "height": 298
        },
        "id": "wjizdp1vaTda",
        "outputId": "03570dd9-aa87-4f00-ef60-6ba249ec06f0"
      },
      "source": [
        "sns.barplot(x='Location_Type',y='Sales',data=train)"
      ],
      "execution_count": 28,
      "outputs": [
        {
          "output_type": "execute_result",
          "data": {
            "text/plain": [
              "<matplotlib.axes._subplots.AxesSubplot at 0x7fd51f345050>"
            ]
          },
          "metadata": {},
          "execution_count": 28
        },
        {
          "output_type": "display_data",
          "data": {
            "image/png": "[encoded data removed]",
            "text/plain": [
              "<Figure size 432x288 with 1 Axes>"
            ]
          },
          "metadata": {
            "needs_background": "light"
          }
        }
      ]
    },
    {
      "cell_type": "markdown",
      "metadata": {
        "id": "Rctadm0qbvG0"
      },
      "source": [
        "Mostly Different store have different sales"
      ]
    },
    {
      "cell_type": "code",
      "metadata": {
        "id": "rlDzewyoa7QO"
      },
      "source": [
        "plt.figure(figsize=(20,5))\n",
        "sns.barplot(x='Store_id',y='Sales',data=train)"
      ],
      "execution_count": null,
      "outputs": []
    },
    {
      "cell_type": "code",
      "metadata": {
        "id": "qSFMMW6Pbqa-"
      },
      "source": [
        "train= train_.copy(deep=True)\n",
        "train.dropna(axis=0,inplace=True)\n",
        "Y=train['Sales']\n"
      ],
      "execution_count": 452,
      "outputs": []
    },
    {
      "cell_type": "code",
      "metadata": {
        "id": "TC7eJw6BgvlQ"
      },
      "source": [
        "train.drop(['ID','Date','Sales'],axis=1,inplace=True)\n",
        "\n",
        "#test.drop(['ID','Date'],axis=1,inplace=True)"
      ],
      "execution_count": 453,
      "outputs": []
    },
    {
      "cell_type": "code",
      "metadata": {
        "id": "w7ddU8ppmctH"
      },
      "source": [
        "train=train.astype(str)\n",
        "test=test.astype(str)"
      ],
      "execution_count": 454,
      "outputs": []
    },
    {
      "cell_type": "code",
      "metadata": {
        "id": "LsWtv6TjKBOW"
      },
      "source": [
        "train['#Order']=train['#Order'].astype(int)"
      ],
      "execution_count": 458,
      "outputs": []
    },
    {
      "cell_type": "code",
      "metadata": {
        "id": "gCdiHQTwBHwj"
      },
      "source": [
        "#train[['per_unit_sale','#Order']]=train[['per_unit_sale','#Order']].astype(float)"
      ],
      "execution_count": 379,
      "outputs": []
    },
    {
      "cell_type": "code",
      "metadata": {
        "id": "RQCYJkS7iNyC"
      },
      "source": [
        "x_train, x_test, y_train, y_test=train_test_split(train,Y.ravel(),test_size=.2)"
      ],
      "execution_count": 459,
      "outputs": []
    },
    {
      "cell_type": "code",
      "metadata": {
        "id": "uFV-6wkrltiG"
      },
      "source": [
        "onehot=OneHotEncoder(handle_unknown='ignore')\n",
        "\n",
        "standard_scaler=StandardScaler()"
      ],
      "execution_count": 460,
      "outputs": []
    },
    {
      "cell_type": "code",
      "metadata": {
        "id": "DU-l_FVFnQDS"
      },
      "source": [
        "preprocessor=make_column_transformer((standard_scaler,selector(dtype_exclude=object)),(onehot,selector(dtype_include=object))) #,"
      ],
      "execution_count": 481,
      "outputs": []
    },
    {
      "cell_type": "code",
      "metadata": {
        "id": "7LMjOrWEI3Yy"
      },
      "source": [
        "#model=LGBMRegressor(n_estimators=50,num_leaves=30) # ---predict sales price\n",
        "model=LGBMRegressor(n_estimators=60)  #predict number of order\n",
        "#model=LGBMRegressor(n_estimators=150 #predict unit_per_sale"
      ],
      "execution_count": 462,
      "outputs": []
    },
    {
      "cell_type": "code",
      "metadata": {
        "id": "urpRPbCKKJ6d"
      },
      "source": [
        "pipeline=make_pipeline(preprocessor,model)"
      ],
      "execution_count": 482,
      "outputs": []
    },
    {
      "cell_type": "code",
      "metadata": {
        "id": "fca96FMloaaK"
      },
      "source": [
        "pipeline.get_params()"
      ],
      "execution_count": null,
      "outputs": []
    },
    {
      "cell_type": "code",
      "metadata": {
        "id": "PQhe8RWKoMqj"
      },
      "source": [
        "grid=GridSearchCV(pipeline,param_grid={'lgbmregressor__num_leaves':[32]},scoring='neg_mean_squared_log_error')"
      ],
      "execution_count": 484,
      "outputs": []
    },
    {
      "cell_type": "code",
      "metadata": {
        "colab": {
          "base_uri": "https://localhost:8080/"
        },
        "id": "elPDpNBROi0f",
        "outputId": "8d5bb08b-653c-4c46-f609-15372e66e986"
      },
      "source": [
        "grid.fit(x_train,y_train)"
      ],
      "execution_count": 485,
      "outputs": [
        {
          "output_type": "execute_result",
          "data": {
            "text/plain": [
              "GridSearchCV(cv=None, error_score=nan,\n",
              "             estimator=Pipeline(memory=None,\n",
              "                                steps=[('columntransformer',\n",
              "                                        ColumnTransformer(n_jobs=None,\n",
              "                                                          remainder='drop',\n",
              "                                                          sparse_threshold=0.3,\n",
              "                                                          transformer_weights=None,\n",
              "                                                          transformers=[('standardscaler',\n",
              "                                                                         StandardScaler(copy=True,\n",
              "                                                                                        with_mean=True,\n",
              "                                                                                        with_std=True),\n",
              "                                                                         <sklearn.compose._column_transformer.make_column_selector object at 0x7fc1fd4...\n",
              "                                                      n_jobs=-1, num_leaves=31,\n",
              "                                                      objective=None,\n",
              "                                                      random_state=None,\n",
              "                                                      reg_alpha=0.0,\n",
              "                                                      reg_lambda=0.0,\n",
              "                                                      silent=True,\n",
              "                                                      subsample=1.0,\n",
              "                                                      subsample_for_bin=200000,\n",
              "                                                      subsample_freq=0))],\n",
              "                                verbose=False),\n",
              "             iid='deprecated', n_jobs=None,\n",
              "             param_grid={'lgbmregressor__num_leaves': [32]},\n",
              "             pre_dispatch='2*n_jobs', refit=True, return_train_score=False,\n",
              "             scoring='neg_mean_squared_log_error', verbose=0)"
            ]
          },
          "metadata": {},
          "execution_count": 485
        }
      ]
    },
    {
      "cell_type": "code",
      "metadata": {
        "colab": {
          "base_uri": "https://localhost:8080/"
        },
        "id": "6LyWZiaNqmgU",
        "outputId": "47ea068d-8fd9-44ff-f352-08d82f977de2"
      },
      "source": [
        "grid.best_params_"
      ],
      "execution_count": 466,
      "outputs": [
        {
          "output_type": "execute_result",
          "data": {
            "text/plain": [
              "{'lgbmregressor__num_leaves': 32}"
            ]
          },
          "metadata": {},
          "execution_count": 466
        }
      ]
    },
    {
      "cell_type": "code",
      "metadata": {
        "id": "2a_90UzrjXdJ"
      },
      "source": [
        "prediction=grid.predict(x_test)"
      ],
      "execution_count": 486,
      "outputs": []
    },
    {
      "cell_type": "code",
      "metadata": {
        "colab": {
          "base_uri": "https://localhost:8080/"
        },
        "id": "MA6kxjX2PfMx",
        "outputId": "622ac039-04ff-48dd-930b-19f71c7fba66"
      },
      "source": [
        "mean_squared_log_error(y_test,prediction) #0.005525763718138175"
      ],
      "execution_count": 487,
      "outputs": [
        {
          "output_type": "execute_result",
          "data": {
            "text/plain": [
              "0.011929879679614673"
            ]
          },
          "metadata": {},
          "execution_count": 487
        }
      ]
    },
    {
      "cell_type": "code",
      "metadata": {
        "colab": {
          "base_uri": "https://localhost:8080/"
        },
        "id": "cV_86rFc6y9W",
        "outputId": "33a1d645-f42b-43bf-bb05-56b8c19f7a01"
      },
      "source": [
        "mean_squared_log_error(y_train,grid.predict(x_train)) #0.011673122818690415"
      ],
      "execution_count": 488,
      "outputs": [
        {
          "output_type": "execute_result",
          "data": {
            "text/plain": [
              "0.014032616415884866"
            ]
          },
          "metadata": {},
          "execution_count": 488
        }
      ]
    },
    {
      "cell_type": "code",
      "metadata": {
        "colab": {
          "base_uri": "https://localhost:8080/"
        },
        "id": "4Ra2Q4IjuX6X",
        "outputId": "eaefe435-d437-4853-a008-f72da87012dc"
      },
      "source": [
        "np.round(prediction,2)[:10]"
      ],
      "execution_count": 489,
      "outputs": [
        {
          "output_type": "execute_result",
          "data": {
            "text/plain": [
              "array([26727.33, 31622.47,  5899.13, 30224.39, 40406.92, 23091.56,\n",
              "       61875.28, 32636.22, 43178.88, 26910.77])"
            ]
          },
          "metadata": {},
          "execution_count": 489
        }
      ]
    },
    {
      "cell_type": "code",
      "metadata": {
        "colab": {
          "base_uri": "https://localhost:8080/"
        },
        "id": "_vqbDsCZAJZb",
        "outputId": "0f513b83-d82d-4b1c-eccf-dcc40522dba1"
      },
      "source": [
        "y_test[:10]"
      ],
      "execution_count": 471,
      "outputs": [
        {
          "output_type": "execute_result",
          "data": {
            "text/plain": [
              "array([27039.  , 32889.  ,  5254.56, 25542.  , 37020.  , 23058.  ,\n",
              "       58848.  , 33051.  , 37860.  , 26202.  ])"
            ]
          },
          "metadata": {},
          "execution_count": 471
        }
      ]
    },
    {
      "cell_type": "code",
      "metadata": {
        "colab": {
          "base_uri": "https://localhost:8080/"
        },
        "id": "y1r7_u7VhwSI",
        "outputId": "7345f2bf-29ce-46e3-f72a-abfadf9db1e7"
      },
      "source": [
        "np.where(prediction<0)"
      ],
      "execution_count": 392,
      "outputs": [
        {
          "output_type": "execute_result",
          "data": {
            "text/plain": [
              "(array([ 2188,  5834, 11209, 23710, 30065]),)"
            ]
          },
          "metadata": {},
          "execution_count": 392
        }
      ]
    },
    {
      "cell_type": "code",
      "metadata": {
        "id": "K2oK0tVauxU4"
      },
      "source": [
        "test=test[train.columns]\n",
        "prediction=grid.predict(test)"
      ],
      "execution_count": 494,
      "outputs": []
    },
    {
      "cell_type": "code",
      "metadata": {
        "id": "Q83fYd51jUwX"
      },
      "source": [
        "#test['#Order']=prediction\n",
        "#test['#Order']=test['#Order'].apply(round)\n",
        "#test=test_.copy(deep=True)"
      ],
      "execution_count": 476,
      "outputs": []
    },
    {
      "cell_type": "code",
      "metadata": {
        "id": "7o7AHF3wv1iR"
      },
      "source": [
        "submission['Sales']=prediction"
      ],
      "execution_count": 495,
      "outputs": []
    },
    {
      "cell_type": "code",
      "metadata": {
        "id": "kEvjVFI70XBc"
      },
      "source": [
        "from datetime import datetime"
      ],
      "execution_count": 496,
      "outputs": []
    },
    {
      "cell_type": "code",
      "metadata": {
        "id": "Mf8PLkjKzxX8"
      },
      "source": [
        "submission.to_csv('prediction_{}.csv'.format(datetime.now().time()),index=False)"
      ],
      "execution_count": 497,
      "outputs": []
    },
    {
      "cell_type": "code",
      "metadata": {
        "colab": {
          "base_uri": "https://localhost:8080/"
        },
        "id": "fpH-qtNE-pvm",
        "outputId": "732e3132-826b-4133-c57a-d3fa203025c8"
      },
      "source": [
        "!ls"
      ],
      "execution_count": 498,
      "outputs": [
        {
          "output_type": "stream",
          "name": "stdout",
          "text": [
            " prediction_15:40:55.358818.csv   SAMPLE.csv\n",
            " prediction_15:51:34.954315.csv   sample_data\n",
            " prediction_17:20:20.160513.csv   TEST_FINAL.csv\n",
            " prediction_17:51:35.961924.csv  'TRAIN (3).csv'\n"
          ]
        }
      ]
    },
    {
      "cell_type": "code",
      "metadata": {
        "colab": {
          "base_uri": "https://localhost:8080/",
          "height": 17
        },
        "id": "WEXGKSbTuTvB",
        "outputId": "27610508-3a69-4414-a2a9-4264c931c0da"
      },
      "source": [
        "from google.colab import files\n",
        "files.download('/content/prediction_17:51:35.961924.csv') "
      ],
      "execution_count": 499,
      "outputs": [
        {
          "output_type": "display_data",
          "data": {
            "application/javascript": [
              "\n",
              "    async function download(id, filename, size) {\n",
              "      if (!google.colab.kernel.accessAllowed) {\n",
              "        return;\n",
              "      }\n",
              "      const div = document.createElement('div');\n",
              "      const label = document.createElement('label');\n",
              "      label.textContent = `Downloading \"${filename}\": `;\n",
              "      div.appendChild(label);\n",
              "      const progress = document.createElement('progress');\n",
              "      progress.max = size;\n",
              "      div.appendChild(progress);\n",
              "      document.body.appendChild(div);\n",
              "\n",
              "      const buffers = [];\n",
              "      let downloaded = 0;\n",
              "\n",
              "      const channel = await google.colab.kernel.comms.open(id);\n",
              "      // Send a message to notify the kernel that we're ready.\n",
              "      channel.send({})\n",
              "\n",
              "      for await (const message of channel.messages) {\n",
              "        // Send a message to notify the kernel that we're ready.\n",
              "        channel.send({})\n",
              "        if (message.buffers) {\n",
              "          for (const buffer of message.buffers) {\n",
              "            buffers.push(buffer);\n",
              "            downloaded += buffer.byteLength;\n",
              "            progress.value = downloaded;\n",
              "          }\n",
              "        }\n",
              "      }\n",
              "      const blob = new Blob(buffers, {type: 'application/binary'});\n",
              "      const a = document.createElement('a');\n",
              "      a.href = window.URL.createObjectURL(blob);\n",
              "      a.download = filename;\n",
              "      div.appendChild(a);\n",
              "      a.click();\n",
              "      div.remove();\n",
              "    }\n",
              "  "
            ],
            "text/plain": [
              "<IPython.core.display.Javascript object>"
            ]
          },
          "metadata": {}
        },
        {
          "output_type": "display_data",
          "data": {
            "application/javascript": [
              "download(\"download_fce44504-b2a9-4eed-94fe-6595369d4761\", \"prediction_17:51:35.961924.csv\", 606930)"
            ],
            "text/plain": [
              "<IPython.core.display.Javascript object>"
            ]
          },
          "metadata": {}
        }
      ]
    }
  ]
}